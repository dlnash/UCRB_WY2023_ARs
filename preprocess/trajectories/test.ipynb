{
 "cells": [
  {
   "cell_type": "code",
   "execution_count": 1,
   "id": "dc33a5d7-a139-4e70-a565-628df4077d18",
   "metadata": {},
   "outputs": [],
   "source": [
    "import os, sys\n",
    "from datetime import datetime\n",
    "import numpy as np\n",
    "import matplotlib.pyplot as plt\n",
    "import pandas as pd\n",
    "import xarray as xr"
   ]
  },
  {
   "cell_type": "code",
   "execution_count": null,
   "id": "c9f8b350-d723-4997-8471-b411e135972b",
   "metadata": {},
   "outputs": [],
   "source": [
    "path_to_data = '/expanse/lustre/scratch/dnash/temp_project/'\n",
    "\n",
    "HUC8_lst = ['14010001', '14080101']\n",
    "HUC8_final = []\n",
    "time_lst = []\n",
    "for i, HUC8 in enumerate(HUC8_lst):"
   ]
  },
  {
   "cell_type": "code",
   "execution_count": 2,
   "id": "f435c36a-0ff4-4932-8e0c-68186e5777a2",
   "metadata": {},
   "outputs": [],
   "source": [
    "name = 'colorado_headwaters'\n",
    "if name == 'colorado_headwaters':\n",
    "    HUC8_ID = '14010001'\n",
    "elif name == 'upper_san_juan':\n",
    "    HUC8_ID = '14080101'"
   ]
  },
  {
   "cell_type": "code",
   "execution_count": 6,
   "id": "93704dbb-7163-4d2f-923f-6e098d8b51b4",
   "metadata": {},
   "outputs": [],
   "source": [
    "HUC8_lst = ['14010001', '14080101']\n",
    "HUC8_final = []\n",
    "time_lst = []\n",
    "for i, HUC8 in enumerate(HUC8_lst):\n",
    "\n",
    "    ## load list of dates\n",
    "    df = pd.read_csv('../../data/SNOTEL_80th_perc_WY2023_{0}'.format(name))\n",
    "    time = df.time.values\n",
    "    for j, t in enumerate(time):\n",
    "        HUC8_final.append(HUC8)\n",
    "        time_lst.append(t)"
   ]
  },
  {
   "cell_type": "code",
   "execution_count": 9,
   "id": "dea5bc35-eba7-4395-8d58-a334722da646",
   "metadata": {},
   "outputs": [
    {
     "data": {
      "text/plain": [
       "['14010001',\n",
       " '14010001',\n",
       " '14010001',\n",
       " '14010001',\n",
       " '14010001',\n",
       " '14010001',\n",
       " '14010001',\n",
       " '14010001',\n",
       " '14010001',\n",
       " '14010001',\n",
       " '14010001',\n",
       " '14010001',\n",
       " '14010001',\n",
       " '14010001',\n",
       " '14010001',\n",
       " '14080101',\n",
       " '14080101',\n",
       " '14080101',\n",
       " '14080101',\n",
       " '14080101',\n",
       " '14080101',\n",
       " '14080101',\n",
       " '14080101',\n",
       " '14080101',\n",
       " '14080101',\n",
       " '14080101',\n",
       " '14080101',\n",
       " '14080101',\n",
       " '14080101',\n",
       " '14080101']"
      ]
     },
     "execution_count": 9,
     "metadata": {},
     "output_type": "execute_result"
    }
   ],
   "source": [
    "HUC8_final"
   ]
  },
  {
   "cell_type": "code",
   "execution_count": 10,
   "id": "7d2ebd7e-d7ac-497d-9e24-f9a5c18d87f1",
   "metadata": {},
   "outputs": [
    {
     "data": {
      "text/plain": [
       "['2022-10-27',\n",
       " '2022-12-10',\n",
       " '2022-12-24',\n",
       " '2022-12-25',\n",
       " '2022-12-27',\n",
       " '2022-12-28',\n",
       " '2022-12-29',\n",
       " '2022-12-31',\n",
       " '2023-01-01',\n",
       " '2023-01-11',\n",
       " '2023-01-28',\n",
       " '2023-03-11',\n",
       " '2023-03-12',\n",
       " '2023-03-16',\n",
       " '2023-03-23',\n",
       " '2022-10-27',\n",
       " '2022-12-10',\n",
       " '2022-12-24',\n",
       " '2022-12-25',\n",
       " '2022-12-27',\n",
       " '2022-12-28',\n",
       " '2022-12-29',\n",
       " '2022-12-31',\n",
       " '2023-01-01',\n",
       " '2023-01-11',\n",
       " '2023-01-28',\n",
       " '2023-03-11',\n",
       " '2023-03-12',\n",
       " '2023-03-16',\n",
       " '2023-03-23']"
      ]
     },
     "execution_count": 10,
     "metadata": {},
     "output_type": "execute_result"
    }
   ],
   "source": [
    "time_lst"
   ]
  },
  {
   "cell_type": "code",
   "execution_count": null,
   "id": "b3473213-e87d-493b-a4cd-fbd13006079f",
   "metadata": {},
   "outputs": [],
   "source": []
  }
 ],
 "metadata": {
  "kernelspec": {
   "display_name": "Python (SEAK-impacts)",
   "language": "python",
   "name": "seak-impacts"
  },
  "language_info": {
   "codemirror_mode": {
    "name": "ipython",
    "version": 3
   },
   "file_extension": ".py",
   "mimetype": "text/x-python",
   "name": "python",
   "nbconvert_exporter": "python",
   "pygments_lexer": "ipython3",
   "version": "3.12.0"
  }
 },
 "nbformat": 4,
 "nbformat_minor": 5
}
