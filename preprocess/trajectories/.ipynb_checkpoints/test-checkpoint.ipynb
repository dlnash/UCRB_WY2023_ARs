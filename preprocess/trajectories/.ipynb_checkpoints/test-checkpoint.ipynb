{
 "cells": [
  {
   "cell_type": "code",
   "execution_count": 1,
   "id": "dc33a5d7-a139-4e70-a565-628df4077d18",
   "metadata": {},
   "outputs": [],
   "source": [
    "import os, sys\n",
    "from datetime import datetime\n",
    "import numpy as np\n",
    "import matplotlib.pyplot as plt\n",
    "import pandas as pd\n",
    "import xarray as xr"
   ]
  },
  {
   "cell_type": "code",
   "execution_count": 5,
   "id": "f8a20fbb-e843-4c7f-8356-faaab6c76d69",
   "metadata": {},
   "outputs": [
    {
     "name": "stdout",
     "output_type": "stream",
     "text": [
      "0 14010001\n",
      "1 14080101\n"
     ]
    }
   ],
   "source": [
    "HUC8_IDs = ['14010001', '14080101'] ## get list of HUC8 IDs\n",
    "ds_lst = []\n",
    "## loop through all HUC8s\n",
    "for i, HUC8_ID in enumerate(HUC8_IDs):\n",
    "    print(i, HUC8_ID)\n",
    "    ## load watershed trajectories\n",
    "    path_to_data = '/home/dnash/comet_data/preprocessed/UCRB_trajectories/latest/'\n",
    "    fname = path_to_data + 'PRISM_HUC8_{0}.nc'.format(HUC8_ID)\n",
    "    ERA5 = xr.open_dataset(fname)\n",
    "    ds_lst.append(ERA5)\n"
   ]
  },
  {
   "cell_type": "code",
   "execution_count": 12,
   "id": "c34ad5c4-60e1-4285-a50d-20652ba2b5ba",
   "metadata": {},
   "outputs": [
    {
     "data": {
      "text/plain": [
       "array(['2022-10-27T00:00:00.000000000', '2022-12-10T00:00:00.000000000',\n",
       "       '2022-12-24T00:00:00.000000000', '2022-12-25T00:00:00.000000000',\n",
       "       '2022-12-27T00:00:00.000000000', '2022-12-28T00:00:00.000000000',\n",
       "       '2022-12-29T00:00:00.000000000', '2022-12-31T00:00:00.000000000',\n",
       "       '2023-01-01T00:00:00.000000000', '2023-01-11T00:00:00.000000000',\n",
       "       '2023-01-28T00:00:00.000000000', '2023-03-11T00:00:00.000000000',\n",
       "       '2023-03-12T00:00:00.000000000', '2023-03-16T00:00:00.000000000',\n",
       "       '2023-03-23T00:00:00.000000000'], dtype='datetime64[ns]')"
      ]
     },
     "execution_count": 12,
     "metadata": {},
     "output_type": "execute_result"
    }
   ],
   "source": [
    "ds_lst[0].start_date.values"
   ]
  },
  {
   "cell_type": "code",
   "execution_count": 9,
   "id": "e2e29c59-96c3-4166-ab89-aa01408fe092",
   "metadata": {},
   "outputs": [
    {
     "data": {
      "text/plain": [
       "array([ 1.,  0., nan, nan, nan,  0., nan,  0.,  1., nan, nan,  0.,  1.,\n",
       "        1., nan])"
      ]
     },
     "execution_count": 9,
     "metadata": {},
     "output_type": "execute_result"
    }
   ],
   "source": [
    "ds_lst[0].ar.values"
   ]
  },
  {
   "cell_type": "code",
   "execution_count": 16,
   "id": "150f2f30-5049-429e-b47c-d6228c7619b3",
   "metadata": {},
   "outputs": [
    {
     "data": {
      "text/plain": [
       "array(['2022-12-29T00:00:00.000000000', '2023-01-02T00:00:00.000000000',\n",
       "       '2023-01-16T00:00:00.000000000', '2023-01-17T00:00:00.000000000',\n",
       "       '2023-01-18T00:00:00.000000000', '2023-02-14T00:00:00.000000000'],\n",
       "      dtype='datetime64[ns]')"
      ]
     },
     "execution_count": 16,
     "metadata": {},
     "output_type": "execute_result"
    }
   ],
   "source": [
    "ds_lst[1].start_date.values[6:12]"
   ]
  },
  {
   "cell_type": "code",
   "execution_count": 10,
   "id": "0ec2b313-2fb5-4afa-a82c-039b9e622a79",
   "metadata": {},
   "outputs": [
    {
     "data": {
      "text/plain": [
       "array([nan,  0., nan, nan, nan,  1.,  1.,  1.,  1., nan,  1., nan,  0.,\n",
       "       nan,  1., nan, nan,  1., nan,  1.,  1.])"
      ]
     },
     "execution_count": 10,
     "metadata": {},
     "output_type": "execute_result"
    }
   ],
   "source": [
    "ds_lst[1].ar.values"
   ]
  },
  {
   "cell_type": "code",
   "execution_count": null,
   "id": "c9f8b350-d723-4997-8471-b411e135972b",
   "metadata": {},
   "outputs": [],
   "source": [
    "path_to_data = '/expanse/lustre/scratch/dnash/temp_project/'\n",
    "\n",
    "HUC8_lst = ['14010001', '14080101']\n",
    "HUC8_final = []\n",
    "time_lst = []\n",
    "for i, HUC8 in enumerate(HUC8_lst):"
   ]
  },
  {
   "cell_type": "code",
   "execution_count": 2,
   "id": "f435c36a-0ff4-4932-8e0c-68186e5777a2",
   "metadata": {},
   "outputs": [],
   "source": [
    "name = 'colorado_headwaters'\n",
    "if name == 'colorado_headwaters':\n",
    "    HUC8_ID = '14010001'\n",
    "elif name == 'upper_san_juan':\n",
    "    HUC8_ID = '14080101'"
   ]
  },
  {
   "cell_type": "code",
   "execution_count": 6,
   "id": "93704dbb-7163-4d2f-923f-6e098d8b51b4",
   "metadata": {},
   "outputs": [],
   "source": [
    "HUC8_lst = ['14010001', '14080101']\n",
    "HUC8_final = []\n",
    "time_lst = []\n",
    "for i, HUC8 in enumerate(HUC8_lst):\n",
    "\n",
    "    ## load list of dates\n",
    "    df = pd.read_csv('../../data/SNOTEL_80th_perc_WY2023_{0}'.format(name))\n",
    "    time = df.time.values\n",
    "    for j, t in enumerate(time):\n",
    "        HUC8_final.append(HUC8)\n",
    "        time_lst.append(t)"
   ]
  },
  {
   "cell_type": "code",
   "execution_count": 9,
   "id": "dea5bc35-eba7-4395-8d58-a334722da646",
   "metadata": {},
   "outputs": [
    {
     "data": {
      "text/plain": [
       "['14010001',\n",
       " '14010001',\n",
       " '14010001',\n",
       " '14010001',\n",
       " '14010001',\n",
       " '14010001',\n",
       " '14010001',\n",
       " '14010001',\n",
       " '14010001',\n",
       " '14010001',\n",
       " '14010001',\n",
       " '14010001',\n",
       " '14010001',\n",
       " '14010001',\n",
       " '14010001',\n",
       " '14080101',\n",
       " '14080101',\n",
       " '14080101',\n",
       " '14080101',\n",
       " '14080101',\n",
       " '14080101',\n",
       " '14080101',\n",
       " '14080101',\n",
       " '14080101',\n",
       " '14080101',\n",
       " '14080101',\n",
       " '14080101',\n",
       " '14080101',\n",
       " '14080101',\n",
       " '14080101']"
      ]
     },
     "execution_count": 9,
     "metadata": {},
     "output_type": "execute_result"
    }
   ],
   "source": [
    "HUC8_final"
   ]
  },
  {
   "cell_type": "code",
   "execution_count": 10,
   "id": "7d2ebd7e-d7ac-497d-9e24-f9a5c18d87f1",
   "metadata": {},
   "outputs": [
    {
     "data": {
      "text/plain": [
       "['2022-10-27',\n",
       " '2022-12-10',\n",
       " '2022-12-24',\n",
       " '2022-12-25',\n",
       " '2022-12-27',\n",
       " '2022-12-28',\n",
       " '2022-12-29',\n",
       " '2022-12-31',\n",
       " '2023-01-01',\n",
       " '2023-01-11',\n",
       " '2023-01-28',\n",
       " '2023-03-11',\n",
       " '2023-03-12',\n",
       " '2023-03-16',\n",
       " '2023-03-23',\n",
       " '2022-10-27',\n",
       " '2022-12-10',\n",
       " '2022-12-24',\n",
       " '2022-12-25',\n",
       " '2022-12-27',\n",
       " '2022-12-28',\n",
       " '2022-12-29',\n",
       " '2022-12-31',\n",
       " '2023-01-01',\n",
       " '2023-01-11',\n",
       " '2023-01-28',\n",
       " '2023-03-11',\n",
       " '2023-03-12',\n",
       " '2023-03-16',\n",
       " '2023-03-23']"
      ]
     },
     "execution_count": 10,
     "metadata": {},
     "output_type": "execute_result"
    }
   ],
   "source": [
    "time_lst"
   ]
  },
  {
   "cell_type": "code",
   "execution_count": null,
   "id": "b3473213-e87d-493b-a4cd-fbd13006079f",
   "metadata": {},
   "outputs": [],
   "source": []
  }
 ],
 "metadata": {
  "kernelspec": {
   "display_name": "Python (SEAK-impacts)",
   "language": "python",
   "name": "seak-impacts"
  },
  "language_info": {
   "codemirror_mode": {
    "name": "ipython",
    "version": 3
   },
   "file_extension": ".py",
   "mimetype": "text/x-python",
   "name": "python",
   "nbconvert_exporter": "python",
   "pygments_lexer": "ipython3",
   "version": "3.12.0"
  }
 },
 "nbformat": 4,
 "nbformat_minor": 5
}
